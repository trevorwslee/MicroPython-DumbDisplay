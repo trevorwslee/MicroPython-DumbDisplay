{
 "cells": [
  {
   "cell_type": "code",
   "execution_count": 1,
   "metadata": {},
   "outputs": [],
   "source": [
    "from dumbdisplay.core import *\n",
    "\n",
    "dd = DumbDisplay(ddio.io4Inet())"
   ]
  },
  {
   "cell_type": "code",
   "execution_count": 2,
   "metadata": {},
   "outputs": [
    {
     "name": "stdout",
     "output_type": "stream",
     "text": [
      "connecting socket ... listing on 192.168.0.17:10201 ...\n",
      "... connected 192.168.0.17:10201 from ('192.168.0.17', 64438)\n"
     ]
    }
   ],
   "source": [
    "from dumbdisplay.layer_ledgrid import *\n",
    "\n",
    "l = LayerLedGrid(dd, 2, 2)"
   ]
  },
  {
   "cell_type": "code",
   "execution_count": 3,
   "metadata": {},
   "outputs": [],
   "source": [
    "l.border(0.2, \"green\")\n",
    "l.backgroundColor(\"pink\")"
   ]
  },
  {
   "cell_type": "code",
   "execution_count": 4,
   "metadata": {},
   "outputs": [],
   "source": [
    "import time\n",
    "\n",
    "for _ in range(10):\n",
    "    l.toggle()\n",
    "    time.sleep(1)"
   ]
  }
 ],
 "metadata": {
  "interpreter": {
   "hash": "f7d347d42c6d0db2d29cf53608d9818b995283d0c6bf7df6637b57fb6f08bd59"
  },
  "kernelspec": {
   "display_name": "Python 3.9.10 64-bit",
   "language": "python",
   "name": "python3"
  },
  "language_info": {
   "codemirror_mode": {
    "name": "ipython",
    "version": 3
   },
   "file_extension": ".py",
   "mimetype": "text/x-python",
   "name": "python",
   "nbconvert_exporter": "python",
   "pygments_lexer": "ipython3",
   "version": "3.9.10"
  },
  "orig_nbformat": 4
 },
 "nbformat": 4,
 "nbformat_minor": 2
}
