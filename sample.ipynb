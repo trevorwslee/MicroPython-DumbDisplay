{
 "cells": [
  {
   "cell_type": "markdown",
   "source": [
    "First, import everything in the DumbDisplay Python module `dumbdisplay`"
   ],
   "metadata": {}
  },
  {
   "cell_type": "code",
   "execution_count": null,
   "source": [
    "from dumbdisplay import *\r\n",
    "\r\n"
   ],
   "outputs": [],
   "metadata": {}
  },
  {
   "cell_type": "markdown",
   "source": [
    "Next, create a DumbDisplay object and assign it to the `dd` variable:\r\n",
    "* create an instance of the class `DumbDisplay`, which is imported from DumbDisplay module\r\n",
    "* passing in the 'Inet IO' object created using `io4Inet()`, which is function also imported from DumbDisplay module  "
   ],
   "metadata": {}
  },
  {
   "cell_type": "code",
   "execution_count": null,
   "source": [
    "dd = DumbDisplay(io4Inet())"
   ],
   "outputs": [],
   "metadata": {}
  },
  {
   "cell_type": "markdown",
   "source": [
    "Then can call the `connect()` method of the DunbDisplay object created"
   ],
   "metadata": {}
  },
  {
   "cell_type": "code",
   "execution_count": null,
   "source": [
    "dd.connect()"
   ],
   "outputs": [],
   "metadata": {}
  },
  {
   "cell_type": "markdown",
   "source": [
    "At this point, create a 'LED Grid Layer' (imported from DumbDisplay module) and assign it to `l` as shown below:\r\n",
    "* 1st argument being the DumbDisplay object just created\r\n",
    "* 2nd and 3rd argments specify the size of the grid -- # rows x # columns"
   ],
   "metadata": {}
  },
  {
   "cell_type": "code",
   "execution_count": null,
   "source": [
    "l = LayerLedGrid(dd, 8, 4)"
   ],
   "outputs": [],
   "metadata": {}
  },
  {
   "cell_type": "markdown",
   "source": [
    "Next, set the \"off color\" of the LEDs on the layer, so that shomthing is shown."
   ],
   "metadata": {}
  },
  {
   "cell_type": "code",
   "execution_count": null,
   "source": [
    "l.offColor('lightgray')"
   ],
   "outputs": [],
   "metadata": {}
  },
  {
   "cell_type": "markdown",
   "source": [
    "Now, try it yourself with the 'LED Grid Layer' object `l`"
   ],
   "metadata": {}
  },
  {
   "cell_type": "code",
   "execution_count": 16,
   "source": [
    "l.toggle()"
   ],
   "outputs": [],
   "metadata": {}
  }
 ],
 "metadata": {
  "orig_nbformat": 4,
  "language_info": {
   "name": "python",
   "version": "3.9.6",
   "mimetype": "text/x-python",
   "codemirror_mode": {
    "name": "ipython",
    "version": 3
   },
   "pygments_lexer": "ipython3",
   "nbconvert_exporter": "python",
   "file_extension": ".py"
  },
  "kernelspec": {
   "name": "python3",
   "display_name": "Python 3.9.6 64-bit"
  },
  "interpreter": {
   "hash": "0233c1c4e89d4d1a4a23d3bd0e5bee1b80ec0c13e54791fc10b2908410a5ae83"
  }
 },
 "nbformat": 4,
 "nbformat_minor": 2
}