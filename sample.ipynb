{
 "cells": [
  {
   "cell_type": "markdown",
   "source": [
    "First, import everything in the DumbDisplay Python module `dumbdisplay`"
   ],
   "metadata": {}
  },
  {
   "cell_type": "code",
   "execution_count": 1,
   "source": [
    "from dumbdisplay import * \r\n",
    "\r\n"
   ],
   "outputs": [
    {
     "output_type": "error",
     "ename": "ModuleNotFoundError",
     "evalue": "No module named '_dumbdisplay'",
     "traceback": [
      "\u001b[1;31m---------------------------------------------------------------------------\u001b[0m",
      "\u001b[1;31mModuleNotFoundError\u001b[0m                       Traceback (most recent call last)",
      "\u001b[1;32mC:\\Users\\TREVOR~1\\AppData\\Local\\Temp/ipykernel_13924/1584734149.py\u001b[0m in \u001b[0;36m<module>\u001b[1;34m\u001b[0m\n\u001b[1;32m----> 1\u001b[1;33m \u001b[1;32mfrom\u001b[0m \u001b[0mdumbdisplay\u001b[0m \u001b[1;32mimport\u001b[0m \u001b[1;33m*\u001b[0m\u001b[1;33m\u001b[0m\u001b[1;33m\u001b[0m\u001b[0m\n\u001b[0m\u001b[0;32m      2\u001b[0m \u001b[1;33m\u001b[0m\u001b[0m\n",
      "\u001b[1;32mc:\\Users\\trevorlee\\VSCode\\MicroPython\\u_dumbdisplay\\dumbdisplay\\__init__.py\u001b[0m in \u001b[0;36m<module>\u001b[1;34m\u001b[0m\n\u001b[1;32m----> 1\u001b[1;33m \u001b[1;32mfrom\u001b[0m \u001b[0m_dumbdisplay\u001b[0m \u001b[1;32mimport\u001b[0m \u001b[0mDumbDisplay\u001b[0m\u001b[1;33m\u001b[0m\u001b[1;33m\u001b[0m\u001b[0m\n\u001b[0m\u001b[0;32m      2\u001b[0m \u001b[1;32mfrom\u001b[0m \u001b[0m_dumbdisplay\u001b[0m \u001b[1;32mimport\u001b[0m \u001b[0mDDAutoPin\u001b[0m \u001b[1;32mas\u001b[0m \u001b[0mAutoPin\u001b[0m\u001b[1;33m\u001b[0m\u001b[1;33m\u001b[0m\u001b[0m\n\u001b[0;32m      3\u001b[0m \u001b[1;33m\u001b[0m\u001b[0m\n\u001b[0;32m      4\u001b[0m \u001b[1;32mfrom\u001b[0m \u001b[0m_ddio\u001b[0m \u001b[1;32mimport\u001b[0m \u001b[0mio4Inet\u001b[0m\u001b[1;33m\u001b[0m\u001b[1;33m\u001b[0m\u001b[0m\n\u001b[0;32m      5\u001b[0m \u001b[1;32mfrom\u001b[0m \u001b[0m_ddio\u001b[0m \u001b[1;32mimport\u001b[0m \u001b[0mio4Wifi\u001b[0m\u001b[1;33m\u001b[0m\u001b[1;33m\u001b[0m\u001b[0m\n",
      "\u001b[1;31mModuleNotFoundError\u001b[0m: No module named '_dumbdisplay'"
     ]
    }
   ],
   "metadata": {}
  },
  {
   "cell_type": "markdown",
   "source": [
    "Next, create a DumbDisplay object and assign it to the `dd` variable:\r\n",
    "* create an instance of the class `DumbDisplay`, which is imported from DumbDisplay module\r\n",
    "* passing in the 'Inet IO' object created using `io4Inet()`, which is function also imported from DumbDisplay module  "
   ],
   "metadata": {}
  },
  {
   "cell_type": "code",
   "execution_count": null,
   "source": [
    "dd = DumbDisplay(io4Inet())"
   ],
   "outputs": [],
   "metadata": {}
  },
  {
   "cell_type": "markdown",
   "source": [
    "Then can call the `connect()` method of the DunbDisplay object created"
   ],
   "metadata": {}
  },
  {
   "cell_type": "code",
   "execution_count": null,
   "source": [
    "dd.connect()"
   ],
   "outputs": [],
   "metadata": {}
  },
  {
   "cell_type": "markdown",
   "source": [
    "At this point, create a 'LED Grid Layer' (imported from DumbDisplay module) and assign it to `l` as shown below:\r\n",
    "* 1st argument being the DumbDisplay object just created\r\n",
    "* 2nd and 3rd argments specify the size of the grid -- # rows x # columns"
   ],
   "metadata": {}
  },
  {
   "cell_type": "code",
   "execution_count": null,
   "source": [
    "l = LayerLedGrid(dd, 8, 4)"
   ],
   "outputs": [],
   "metadata": {}
  },
  {
   "cell_type": "markdown",
   "source": [
    "Next, set the \"off color\" of the LEDs on the layer, so that shomthing is shown."
   ],
   "metadata": {}
  },
  {
   "cell_type": "code",
   "execution_count": null,
   "source": [
    "l.offColor('lightgray')"
   ],
   "outputs": [],
   "metadata": {}
  },
  {
   "cell_type": "markdown",
   "source": [
    "Now, try it yourself with the 'LED Grid Layer' object `l`"
   ],
   "metadata": {}
  },
  {
   "cell_type": "code",
   "execution_count": 16,
   "source": [
    "l.toggle()"
   ],
   "outputs": [],
   "metadata": {}
  }
 ],
 "metadata": {
  "orig_nbformat": 4,
  "language_info": {
   "name": "python",
   "version": "3.9.6",
   "mimetype": "text/x-python",
   "codemirror_mode": {
    "name": "ipython",
    "version": 3
   },
   "pygments_lexer": "ipython3",
   "nbconvert_exporter": "python",
   "file_extension": ".py"
  },
  "kernelspec": {
   "name": "python3",
   "display_name": "Python 3.9.6 64-bit"
  },
  "interpreter": {
   "hash": "0233c1c4e89d4d1a4a23d3bd0e5bee1b80ec0c13e54791fc10b2908410a5ae83"
  }
 },
 "nbformat": 4,
 "nbformat_minor": 2
}