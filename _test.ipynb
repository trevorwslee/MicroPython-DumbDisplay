{
 "cells": [
  {
   "cell_type": "code",
   "execution_count": 1,
   "metadata": {},
   "outputs": [
    {
     "name": "stdout",
     "output_type": "stream",
     "text": [
      "connecting socket ... listing on 192.168.0.17:10201 ...\n",
      "... connected 192.168.0.17:10201 from ('192.168.0.98', 44126)\n"
     ]
    }
   ],
   "source": [
    "from dumbdisplay.core import *\n",
    "from dumbdisplay.io_inet import *\n",
    "from dumbdisplay.layer_ledgrid import *\n",
    "\n",
    "dd = DumbDisplay(io4Inet())\n",
    "dd.backgroundColor(\"yellow\")"
   ]
  },
  {
   "cell_type": "code",
   "execution_count": 2,
   "metadata": {},
   "outputs": [],
   "source": [
    "l = LayerLedGrid(dd)\n",
    "l.turnOn()"
   ]
  },
  {
   "cell_type": "code",
   "execution_count": 3,
   "metadata": {},
   "outputs": [],
   "source": [
    "l.noPadding()\n",
    "l.border(0.1, \"green\", \"raised\")\n",
    "l.backgroundColor(\"orange\")"
   ]
  },
  {
   "cell_type": "code",
   "execution_count": 4,
   "metadata": {},
   "outputs": [],
   "source": [
    "l.margin(0.1, 0.1, 0.1, 0.1)\n",
    "l.backgroundColor(\"red\")\n",
    "l.opacity(10)\n",
    "l.alpha(255)"
   ]
  }
 ],
 "metadata": {
  "kernelspec": {
   "display_name": "venv",
   "language": "python",
   "name": "python3"
  },
  "language_info": {
   "codemirror_mode": {
    "name": "ipython",
    "version": 3
   },
   "file_extension": ".py",
   "mimetype": "text/x-python",
   "name": "python",
   "nbconvert_exporter": "python",
   "pygments_lexer": "ipython3",
   "version": "3.9.10"
  },
  "orig_nbformat": 4
 },
 "nbformat": 4,
 "nbformat_minor": 2
}
